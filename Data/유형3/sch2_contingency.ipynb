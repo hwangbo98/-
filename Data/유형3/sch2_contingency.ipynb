{
 "cells": [
  {
   "cell_type": "code",
   "execution_count": 1,
   "metadata": {},
   "outputs": [],
   "source": [
    "import pandas as pd\n",
    "import numpy as np\n",
    "\n"
   ]
  },
  {
   "cell_type": "code",
   "execution_count": 2,
   "metadata": {},
   "outputs": [
    {
     "name": "stdout",
     "output_type": "stream",
     "text": [
      "      남자   여자\n",
      "합격   100  130\n",
      "불합격  200  170\n"
     ]
    }
   ],
   "source": [
    "df = pd.DataFrame({'남자' : [100, 200],\n",
    "                    '여자' : [130, 170]},\n",
    "                    index=['합격', '불합격'])\n",
    "\n",
    "print(df)"
   ]
  },
  {
   "cell_type": "markdown",
   "metadata": {},
   "source": [
    "아래는 주어진 내용을 Markdown 형식으로 정리한 것입니다:\n",
    "\n",
    "2. 문제 풀이\n",
    "\n",
    "(1) 기대 빈도 계산\n",
    "\n",
    "\t•\t기대 빈도는 (행 합계 × 열 합계) ÷ 전체 합계로 계산합니다.\n",
    "\t•\t남자의 합격에 대한 기대 빈도 계산:\n",
    "￼\n",
    "\n",
    "(2) 카이제곱 검정 통계량\n",
    "\n",
    "\t•\t카이제곱 통계량(Chi-squared statistic) 공식:\n",
    "￼\n",
    "여기서 ￼는 관찰 빈도, ￼는 기대 빈도입니다.\n",
    "\n",
    "(3) 자유도 계산\n",
    "\n",
    "\t•\t자유도(Degree of Freedom, ￼):\n",
    "￼\n",
    "￼\n",
    "\n",
    "(4) p-value 계산\n",
    "\n",
    "\t•\t카이제곱 분포를 사용하여 p-value를 계산합니다.\n",
    "\n",
    "(5) 귀무가설 기각 여부\n",
    "\n",
    "\t•\t유의 수준 ￼에서 p-값과 비교하여 귀무가설을 기각할지 결정합니다.\n",
    "\n",
    "Markdown 파일로 작성하거나, 그대로 복사하여 사용하면 됩니다. 추가 질문이 있으면 알려주세요! 😊"
   ]
  },
  {
   "cell_type": "code",
   "execution_count": 4,
   "metadata": {},
   "outputs": [
    {
     "name": "stdout",
     "output_type": "stream",
     "text": [
      "검정 통계랑 : 5.929494712103407\n",
      "p-value : 0.014889510605994763\n",
      "자유도 : 1\n",
      "기대 빈도 : 115.0\n"
     ]
    }
   ],
   "source": [
    "from scipy.stats import chi2_contingency\n",
    "\n",
    "chi, pvalue, dof, expected = chi2_contingency(df)\n",
    "\n",
    "print(f'검정 통계랑 : {chi}')\n",
    "print(f'p-value : {pvalue}')\n",
    "print(f'자유도 : {dof}')\n",
    "print(f'기대 빈도 : {expected[0][0]}')"
   ]
  },
  {
   "cell_type": "code",
   "execution_count": null,
   "metadata": {},
   "outputs": [],
   "source": []
  }
 ],
 "metadata": {
  "kernelspec": {
   "display_name": "py311",
   "language": "python",
   "name": "python3"
  },
  "language_info": {
   "codemirror_mode": {
    "name": "ipython",
    "version": 3
   },
   "file_extension": ".py",
   "mimetype": "text/x-python",
   "name": "python",
   "nbconvert_exporter": "python",
   "pygments_lexer": "ipython3",
   "version": "3.11.8"
  }
 },
 "nbformat": 4,
 "nbformat_minor": 2
}
